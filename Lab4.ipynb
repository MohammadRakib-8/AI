{
 "cells": [
  {
   "cell_type": "code",
   "execution_count": 5,
   "id": "bc7a2c52",
   "metadata": {},
   "outputs": [
    {
     "name": "stdout",
     "output_type": "stream",
     "text": [
      "[40, 50, 60, 0, 0, 0]\n"
     ]
    }
   ],
   "source": [
    "1.\n",
    "\n",
    "def shiftLeft(source, k):\n",
    "    n = len(source)\n",
    "    for i in range(k, n):\n",
    "        source[i - k] = source[i]\n",
    "    for i in range(n - k, n):\n",
    "        source[i] = 0\n",
    "    print(source)\n",
    "\n",
    "source = [10, 20, 30, 40, 50, 60]\n",
    "shiftLeft(source, 3)\n",
    "\n",
    "\n"
   ]
  },
  {
   "cell_type": "code",
   "execution_count": 7,
   "id": "7dd8be89",
   "metadata": {},
   "outputs": [
    {
     "name": "stdout",
     "output_type": "stream",
     "text": [
      "[40, 50, 60, 10, 20, 30]\n"
     ]
    }
   ],
   "source": [
    "2.\n",
    "\n",
    "def rotateLeft(source, k):\n",
    "\n",
    "    n = len(source)\n",
    "    k = k % n\n",
    "    temp = []\n",
    "    \n",
    "    # Store the first k elements in a temporary list\n",
    "    for i in range(k):\n",
    "        temp.append(source[i])\n",
    "\n",
    "    # Shift the remaining elements to the left by k positions\n",
    "    for i in range(n - k):\n",
    "        source[i] = source[i + k]\n",
    "\n",
    "    # Place the elements from the temporary list at the end of the array\n",
    "    for i in range(n - k, n):\n",
    "        source[i] = temp[i - (n - k)]\n",
    "        \n",
    "    print(source)\n",
    "\n",
    "source = [10, 20, 30, 40, 50, 60]\n",
    "rotateLeft(source, 3)\n",
    "\n",
    "\n"
   ]
  },
  {
   "cell_type": "code",
   "execution_count": 8,
   "id": "0fbb756f",
   "metadata": {},
   "outputs": [
    {
     "name": "stdout",
     "output_type": "stream",
     "text": [
      "[10, 20, 40, 50, 0, 0, 0]\n"
     ]
    }
   ],
   "source": [
    "3.\n",
    "\n",
    "def remove(source, size, idx):\n",
    "    for i in range(idx, size - 1):\n",
    "        source[i] = source[i + 1]\n",
    "    source[size - 1] = 0\n",
    "    print(source)\n",
    "\n",
    "source = [10, 20, 30, 40, 50, 0, 0]\n",
    "remove(source, 5, 2)\n",
    "\n",
    "\n",
    "\n",
    "\n"
   ]
  },
  {
   "cell_type": "code",
   "execution_count": 9,
   "id": "ef86b33e",
   "metadata": {},
   "outputs": [
    {
     "name": "stdout",
     "output_type": "stream",
     "text": [
      "[10, 30, 50, 0, 0, 0, 0, 0, 0]\n"
     ]
    }
   ],
   "source": [
    "4.\n",
    "\n",
    "def removeAll(source, size, element):\n",
    "    k = 0\n",
    "    for i in range(size):\n",
    "        if source[i] != element:\n",
    "            source[k] = source[i]\n",
    "            k += 1\n",
    "    for i in range(k, size):\n",
    "        source[i] = 0\n",
    "    print(source)\n",
    "\n",
    "source = [10, 2, 30, 2, 50, 2, 2, 0, 0]\n",
    "removeAll(source, 7, 2)"
   ]
  },
  {
   "cell_type": "code",
   "execution_count": null,
   "id": "e513c236",
   "metadata": {},
   "outputs": [],
   "source": []
  }
 ],
 "metadata": {
  "kernelspec": {
   "display_name": "Python 3 (ipykernel)",
   "language": "python",
   "name": "python3"
  },
  "language_info": {
   "codemirror_mode": {
    "name": "ipython",
    "version": 3
   },
   "file_extension": ".py",
   "mimetype": "text/x-python",
   "name": "python",
   "nbconvert_exporter": "python",
   "pygments_lexer": "ipython3",
   "version": "3.11.5"
  }
 },
 "nbformat": 4,
 "nbformat_minor": 5
}
